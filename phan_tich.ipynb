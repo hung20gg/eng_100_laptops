{
 "cells": [
  {
   "cell_type": "markdown",
   "metadata": {},
   "source": [
    "# Analysis on the impact of Laptop on academic performance of NEU's students"
   ]
  },
  {
   "cell_type": "markdown",
   "metadata": {},
   "source": [
    "The data is based on the survey among 66 students about how to they value their laptop via Google Form.\n",
    "The raw data in Google Form will be cleaned, and then it will be analyze to find the relationship between laptops and their performance.\n",
    "Some information has already been extracted in Google Form Summary. We will use JupyterNotebook to find the rest infomation\n",
    "\n",
    "This material is for English 100 final report"
   ]
  },
  {
   "cell_type": "code",
   "execution_count": 2,
   "metadata": {},
   "outputs": [],
   "source": [
    "import pandas as pd\n",
    "import numpy as np\n",
    "import matplotlib.pyplot as plt\n",
    "df = pd.read_csv(r'KHẢO SÁT NHÓM 5.csv')"
   ]
  },
  {
   "cell_type": "raw",
   "metadata": {},
   "source": [
    "Etract data to show:\n",
    "Learning\n",
    "- How each computer brand affect the time spend on computer\n",
    "- Does the pricetag affect learning quality\n",
    "- The differences between genders in learning with laptops\n",
    "- How well the students use laptop\n",
    "- Differences between majors\n",
    "Laptop\n",
    "- How user feel about each computer brand manufacture quality\n",
    "- Does the price tag affect quality\n",
    "- The different of choices between genders"
   ]
  },
  {
   "cell_type": "markdown",
   "metadata": {},
   "source": [
    "# Clean data for analysis"
   ]
  },
  {
   "cell_type": "code",
   "execution_count": 3,
   "metadata": {},
   "outputs": [],
   "source": [
    "df2=df.rename({'Cho chúng mình biết bạn đang là sinh viên khóa bao nhiêu ?': 'Year','Chuyên ngành của bạn là gì ? ':'Major','Giới tính của bạn':'Gender','Bạn đang sử dụng laptop hãng nào ?':'Brand','Mẫu máy của bạn là gì ?':'Model','Mức độ hài lòng về chiếc laptop của bạn':'Overall_satisfaction',\n",
    "          'Đánh giá sơ bộ laptop của bạn [Chất lượng hoàn thiện]':'Build_quality','Đánh giá sơ bộ laptop của bạn [Thiết kế]':'Design','Đánh giá sơ bộ laptop của bạn [Thời lượng pin]':'Battery_life','Thời lượng sử dụng laptop của bạn mỗi ngày':'Time_usage','Mục đích sử dụng laptop của bạn là gì\\n(Bạn có thể chọn nhiều hơn 1 câu trả lời)':'Purpose',\n",
    "          'Laptop có giúp ích trong việc học và làm của bạn không':'Useful','Bạn có sử dụng laptop khi lên lớp không ?':'Class_use','Bạn có thường bị mất tập trung khi sử dụng laptop cho việc học không ?':'Distraction_rate','Bạn dành bao nhiêu tiền để mua laptop (đơn vị Triệu đồng)':'Budget',\n",
    "          'Nếu được chọn lại, bạn sẽ chọn mẫu máy laptop nào? Tại sao?':'Rechoose','Thời lượng sử dụng laptop của bạn trong việc học trong 1 ngày':'Time_study','Trên thang điểm 1-5 hãy đánh giá khả năng sử dụng máy tính của bạn (1: Mới sử dụng, 5: Thành thạo)':'Skill','Bạn đã từng sử dụng mẹo để tăng tốc độ xử lý của máy tính chưa?':'Trick','Đánh giá sơ bộ laptop của bạn [Hiển thị]':'Display','Đánh giá sơ bộ laptop của bạn [Độ di động (gọn nhẹ)]':'Portable','Đánh giá sơ bộ laptop của bạn [Hiệu năng]':'Power','Đánh giá sơ bộ laptop của bạn [Dịch vụ bảo hành]':'Customer_service'},\n",
    "          axis=1)\n",
    "df2['Major']=df2['Major'].str.lower()\n",
    "df2['Budget'] = pd.to_numeric(df2['Budget'])\n",
    "map1={'Bình thường':3,'Khá hài lòng':4,'Rất hài lòng':5,'Không hài lòng':2,'Thất vọng':1}\n",
    "map2={'Đủ':4,'Ngoài mong đợi':5,'Bình thường':3}\n",
    "map3={'Ít khi':2,'Thình thoảng':4,'Bình thường':3,'Thường xuyên':5,'Không':1}\n",
    "map_price={'< 10':7.5,'10-15':12.5,'15-20':17.5,'20-25':22.5,'25+':30}\n",
    "map_time={'2 - 4 tiếng':3,'30 phút - 1 tiếng':0.75,'1- 2 tiếng':1.5,'4 tiếng +':5,'ít hơn 30 phút':0.25}\n",
    "gender={'Nam':'Men','Nữ':'Women','Bi':'Other'}\n",
    "df2['Design']=df2['Design'].map(map1)\n",
    "df2['Build_quality']=df2['Build_quality'].map(map1)\n",
    "df2['Battery_life']=df2['Battery_life'].map(map1)\n",
    "df2['Power']=df2['Power'].map(map1)\n",
    "df2['Portable']=df2['Portable'].map(map1)\n",
    "df2['Display']=df2['Display'].map(map1)\n",
    "df2['Customer_service']=df2['Customer_service'].map(map1)\n",
    "df2['Overall_satisfaction']=df2['Overall_satisfaction'].map(map1)\n",
    "df2['Useful']=df2['Useful'].map(map2)\n",
    "df2['Class_use']=df2['Class_use'].map(map3)\n",
    "df2['Time_study']=df2['Time_study'].map(map_time)\n",
    "df2['Time_usage']=df2['Time_usage'].map(map_time)\n",
    "df2['Distraction_rate']=df2['Distraction_rate'].map(map3)\n",
    "df2['Gender']=df2['Gender'].map(gender)"
   ]
  },
  {
   "cell_type": "code",
   "execution_count": 4,
   "metadata": {},
   "outputs": [],
   "source": [
    "df2.to_csv('clean_neu_laptop.csv', index=True)"
   ]
  },
  {
   "cell_type": "markdown",
   "metadata": {},
   "source": [
    "# Laptop in academic performance"
   ]
  },
  {
   "cell_type": "markdown",
   "metadata": {},
   "source": [
    "### Learning quality over brands"
   ]
  },
  {
   "cell_type": "code",
   "execution_count": 5,
   "metadata": {},
   "outputs": [
    {
     "name": "stderr",
     "output_type": "stream",
     "text": [
      "C:\\Users\\Admin\\AppData\\Local\\Temp\\ipykernel_26808\\3400887872.py:3: FutureWarning: The default value of numeric_only in DataFrameGroupBy.mean is deprecated. In a future version, numeric_only will default to False. Either specify numeric_only or select only columns which should be valid for the function.\n",
      "  df3=df2.groupby(['Brand'])[['Brand','Useful','Class_use','Time_study','Time_usage','Distraction_rate']].mean()\n"
     ]
    },
    {
     "data": {
      "text/html": [
       "<div>\n",
       "<style scoped>\n",
       "    .dataframe tbody tr th:only-of-type {\n",
       "        vertical-align: middle;\n",
       "    }\n",
       "\n",
       "    .dataframe tbody tr th {\n",
       "        vertical-align: top;\n",
       "    }\n",
       "\n",
       "    .dataframe thead th {\n",
       "        text-align: right;\n",
       "    }\n",
       "</style>\n",
       "<table border=\"1\" class=\"dataframe\">\n",
       "  <thead>\n",
       "    <tr style=\"text-align: right;\">\n",
       "      <th></th>\n",
       "      <th>Useful</th>\n",
       "      <th>Class_use</th>\n",
       "      <th>Time_study</th>\n",
       "      <th>Time_usage</th>\n",
       "      <th>Distraction_rate</th>\n",
       "      <th>Learn_rate</th>\n",
       "      <th>Count</th>\n",
       "    </tr>\n",
       "    <tr>\n",
       "      <th>Brand</th>\n",
       "      <th></th>\n",
       "      <th></th>\n",
       "      <th></th>\n",
       "      <th></th>\n",
       "      <th></th>\n",
       "      <th></th>\n",
       "      <th></th>\n",
       "    </tr>\n",
       "  </thead>\n",
       "  <tbody>\n",
       "    <tr>\n",
       "      <th>MSI</th>\n",
       "      <td>4.75</td>\n",
       "      <td>3.25</td>\n",
       "      <td>2.25</td>\n",
       "      <td>4.00</td>\n",
       "      <td>3.75</td>\n",
       "      <td>56.25</td>\n",
       "      <td>4</td>\n",
       "    </tr>\n",
       "    <tr>\n",
       "      <th>Lenovo</th>\n",
       "      <td>4.67</td>\n",
       "      <td>4.33</td>\n",
       "      <td>3.08</td>\n",
       "      <td>5.00</td>\n",
       "      <td>3.67</td>\n",
       "      <td>61.67</td>\n",
       "      <td>6</td>\n",
       "    </tr>\n",
       "    <tr>\n",
       "      <th>HP</th>\n",
       "      <td>4.12</td>\n",
       "      <td>4.12</td>\n",
       "      <td>1.72</td>\n",
       "      <td>3.22</td>\n",
       "      <td>3.50</td>\n",
       "      <td>53.40</td>\n",
       "      <td>8</td>\n",
       "    </tr>\n",
       "    <tr>\n",
       "      <th>Acer</th>\n",
       "      <td>4.00</td>\n",
       "      <td>3.75</td>\n",
       "      <td>2.06</td>\n",
       "      <td>4.00</td>\n",
       "      <td>2.50</td>\n",
       "      <td>51.56</td>\n",
       "      <td>4</td>\n",
       "    </tr>\n",
       "    <tr>\n",
       "      <th>Asus</th>\n",
       "      <td>4.00</td>\n",
       "      <td>4.36</td>\n",
       "      <td>2.55</td>\n",
       "      <td>4.07</td>\n",
       "      <td>3.45</td>\n",
       "      <td>62.57</td>\n",
       "      <td>11</td>\n",
       "    </tr>\n",
       "    <tr>\n",
       "      <th>Dell</th>\n",
       "      <td>4.00</td>\n",
       "      <td>3.21</td>\n",
       "      <td>1.75</td>\n",
       "      <td>2.95</td>\n",
       "      <td>3.53</td>\n",
       "      <td>59.38</td>\n",
       "      <td>19</td>\n",
       "    </tr>\n",
       "    <tr>\n",
       "      <th>Macbook</th>\n",
       "      <td>3.90</td>\n",
       "      <td>4.40</td>\n",
       "      <td>1.82</td>\n",
       "      <td>2.95</td>\n",
       "      <td>3.30</td>\n",
       "      <td>61.86</td>\n",
       "      <td>10</td>\n",
       "    </tr>\n",
       "  </tbody>\n",
       "</table>\n",
       "</div>"
      ],
      "text/plain": [
       "         Useful  Class_use  Time_study  Time_usage  Distraction_rate  \\\n",
       "Brand                                                                  \n",
       "MSI        4.75       3.25        2.25        4.00              3.75   \n",
       "Lenovo     4.67       4.33        3.08        5.00              3.67   \n",
       "HP         4.12       4.12        1.72        3.22              3.50   \n",
       "Acer       4.00       3.75        2.06        4.00              2.50   \n",
       "Asus       4.00       4.36        2.55        4.07              3.45   \n",
       "Dell       4.00       3.21        1.75        2.95              3.53   \n",
       "Macbook    3.90       4.40        1.82        2.95              3.30   \n",
       "\n",
       "         Learn_rate  Count  \n",
       "Brand                       \n",
       "MSI           56.25      4  \n",
       "Lenovo        61.67      6  \n",
       "HP            53.40      8  \n",
       "Acer          51.56      4  \n",
       "Asus          62.57     11  \n",
       "Dell          59.38     19  \n",
       "Macbook       61.86     10  "
      ]
     },
     "execution_count": 5,
     "metadata": {},
     "output_type": "execute_result"
    }
   ],
   "source": [
    "#Learning over brands\n",
    "\n",
    "df3=df2.groupby(['Brand'])[['Brand','Useful','Class_use','Time_study','Time_usage','Distraction_rate']].mean()\n",
    "df3['Learn_rate']=(df3['Time_study']/df3['Time_usage'])*100\n",
    "df3['Count']=df2['Brand'].value_counts()\n",
    "df3.loc[df3['Count']>2].sort_values(by=['Useful'],ascending=False).round(2)"
   ]
  },
  {
   "cell_type": "code",
   "execution_count": 6,
   "metadata": {},
   "outputs": [
    {
     "data": {
      "text/html": [
       "<div>\n",
       "<style scoped>\n",
       "    .dataframe tbody tr th:only-of-type {\n",
       "        vertical-align: middle;\n",
       "    }\n",
       "\n",
       "    .dataframe tbody tr th {\n",
       "        vertical-align: top;\n",
       "    }\n",
       "\n",
       "    .dataframe thead th {\n",
       "        text-align: right;\n",
       "    }\n",
       "</style>\n",
       "<table border=\"1\" class=\"dataframe\">\n",
       "  <thead>\n",
       "    <tr style=\"text-align: right;\">\n",
       "      <th></th>\n",
       "      <th>Useful</th>\n",
       "      <th>Class_use</th>\n",
       "      <th>Time_study</th>\n",
       "      <th>Time_usage</th>\n",
       "      <th>Distraction_rate</th>\n",
       "      <th>Learn_rate</th>\n",
       "    </tr>\n",
       "    <tr>\n",
       "      <th>Count</th>\n",
       "      <th></th>\n",
       "      <th></th>\n",
       "      <th></th>\n",
       "      <th></th>\n",
       "      <th></th>\n",
       "      <th></th>\n",
       "    </tr>\n",
       "  </thead>\n",
       "  <tbody>\n",
       "    <tr>\n",
       "      <th>1</th>\n",
       "      <td>4.244167</td>\n",
       "      <td>3.59325</td>\n",
       "      <td>2.423504</td>\n",
       "      <td>3.76843</td>\n",
       "      <td>3.569753</td>\n",
       "      <td>62.168646</td>\n",
       "    </tr>\n",
       "  </tbody>\n",
       "</table>\n",
       "</div>"
      ],
      "text/plain": [
       "         Useful  Class_use  Time_study  Time_usage  Distraction_rate  \\\n",
       "Count                                                                  \n",
       "1      4.244167    3.59325    2.423504     3.76843          3.569753   \n",
       "\n",
       "       Learn_rate  \n",
       "Count              \n",
       "1       62.168646  "
      ]
     },
     "execution_count": 6,
     "metadata": {},
     "output_type": "execute_result"
    }
   ],
   "source": [
    "df3['Count']=1\n",
    "df3.groupby(['Count']).mean()"
   ]
  },
  {
   "cell_type": "markdown",
   "metadata": {},
   "source": [
    "### Learning quality over budget"
   ]
  },
  {
   "cell_type": "code",
   "execution_count": 7,
   "metadata": {},
   "outputs": [
    {
     "data": {
      "text/html": [
       "<div>\n",
       "<style scoped>\n",
       "    .dataframe tbody tr th:only-of-type {\n",
       "        vertical-align: middle;\n",
       "    }\n",
       "\n",
       "    .dataframe tbody tr th {\n",
       "        vertical-align: top;\n",
       "    }\n",
       "\n",
       "    .dataframe thead th {\n",
       "        text-align: right;\n",
       "    }\n",
       "</style>\n",
       "<table border=\"1\" class=\"dataframe\">\n",
       "  <thead>\n",
       "    <tr style=\"text-align: right;\">\n",
       "      <th></th>\n",
       "      <th>Useful</th>\n",
       "      <th>Class_use</th>\n",
       "      <th>Time_study</th>\n",
       "      <th>Time_usage</th>\n",
       "      <th>Distraction_rate</th>\n",
       "      <th>Learn_rate</th>\n",
       "      <th>Count</th>\n",
       "    </tr>\n",
       "    <tr>\n",
       "      <th>Budget</th>\n",
       "      <th></th>\n",
       "      <th></th>\n",
       "      <th></th>\n",
       "      <th></th>\n",
       "      <th></th>\n",
       "      <th></th>\n",
       "      <th></th>\n",
       "    </tr>\n",
       "  </thead>\n",
       "  <tbody>\n",
       "    <tr>\n",
       "      <th>30.0</th>\n",
       "      <td>4.36</td>\n",
       "      <td>3.93</td>\n",
       "      <td>2.66</td>\n",
       "      <td>4.12</td>\n",
       "      <td>3.36</td>\n",
       "      <td>64.50</td>\n",
       "      <td>14</td>\n",
       "    </tr>\n",
       "    <tr>\n",
       "      <th>7.5</th>\n",
       "      <td>4.00</td>\n",
       "      <td>3.33</td>\n",
       "      <td>2.42</td>\n",
       "      <td>3.83</td>\n",
       "      <td>3.67</td>\n",
       "      <td>63.04</td>\n",
       "      <td>3</td>\n",
       "    </tr>\n",
       "    <tr>\n",
       "      <th>22.5</th>\n",
       "      <td>4.08</td>\n",
       "      <td>4.25</td>\n",
       "      <td>2.19</td>\n",
       "      <td>3.58</td>\n",
       "      <td>3.17</td>\n",
       "      <td>61.05</td>\n",
       "      <td>12</td>\n",
       "    </tr>\n",
       "    <tr>\n",
       "      <th>17.5</th>\n",
       "      <td>4.05</td>\n",
       "      <td>3.76</td>\n",
       "      <td>2.11</td>\n",
       "      <td>3.68</td>\n",
       "      <td>3.62</td>\n",
       "      <td>57.28</td>\n",
       "      <td>21</td>\n",
       "    </tr>\n",
       "    <tr>\n",
       "      <th>12.5</th>\n",
       "      <td>4.12</td>\n",
       "      <td>3.50</td>\n",
       "      <td>1.64</td>\n",
       "      <td>2.81</td>\n",
       "      <td>3.50</td>\n",
       "      <td>58.33</td>\n",
       "      <td>16</td>\n",
       "    </tr>\n",
       "  </tbody>\n",
       "</table>\n",
       "</div>"
      ],
      "text/plain": [
       "        Useful  Class_use  Time_study  Time_usage  Distraction_rate  \\\n",
       "Budget                                                                \n",
       "30.0      4.36       3.93        2.66        4.12              3.36   \n",
       "7.5       4.00       3.33        2.42        3.83              3.67   \n",
       "22.5      4.08       4.25        2.19        3.58              3.17   \n",
       "17.5      4.05       3.76        2.11        3.68              3.62   \n",
       "12.5      4.12       3.50        1.64        2.81              3.50   \n",
       "\n",
       "        Learn_rate  Count  \n",
       "Budget                     \n",
       "30.0         64.50     14  \n",
       "7.5          63.04      3  \n",
       "22.5         61.05     12  \n",
       "17.5         57.28     21  \n",
       "12.5         58.33     16  "
      ]
     },
     "execution_count": 7,
     "metadata": {},
     "output_type": "execute_result"
    }
   ],
   "source": [
    "#Learning over budget\n",
    "df3=df2.groupby(['Budget'])[['Useful','Class_use','Time_study','Time_usage','Distraction_rate']].mean()\n",
    "df3['Learn_rate']=(df3['Time_study']/df3['Time_usage'])*100\n",
    "df3['Count']=df2['Budget'].value_counts()\n",
    "df3.sort_values(by=['Time_study'],ascending=False).round(2)"
   ]
  },
  {
   "cell_type": "code",
   "execution_count": 8,
   "metadata": {},
   "outputs": [
    {
     "data": {
      "text/plain": [
       "dseb                                             33\n",
       "tài chính                                         6\n",
       "mis                                               4\n",
       "kiểm toán                                         4\n",
       "luật                                              2\n",
       "marketing                                         2\n",
       "qtkd                                              2\n",
       "logistics                                         2\n",
       "it                                                2\n",
       "ngôn ngữ anh                                      1\n",
       "cntt                                              1\n",
       "phân tích tài chính                               1\n",
       "kinh tế đối ngoại                                 1\n",
       "kinh doanh quốc tế                                1\n",
       "thiết kế thời trang cho người ngoài hành tinh     1\n",
       "hàn quốc học                                      1\n",
       "toán kinh tế                                      1\n",
       "xây dựng gia đình                                 1\n",
       "Name: Major, dtype: int64"
      ]
     },
     "execution_count": 8,
     "metadata": {},
     "output_type": "execute_result"
    }
   ],
   "source": [
    "df2['Major'].value_counts()"
   ]
  },
  {
   "cell_type": "markdown",
   "metadata": {},
   "source": [
    "### Differences in using laptop for learning in genders"
   ]
  },
  {
   "cell_type": "code",
   "execution_count": 9,
   "metadata": {},
   "outputs": [
    {
     "name": "stderr",
     "output_type": "stream",
     "text": [
      "C:\\Users\\Admin\\AppData\\Local\\Temp\\ipykernel_26808\\3405677166.py:2: FutureWarning: The default value of numeric_only in DataFrameGroupBy.mean is deprecated. In a future version, numeric_only will default to False. Either specify numeric_only or select only columns which should be valid for the function.\n",
      "  df3=df2.groupby(['Gender'])[['Brand','Useful','Class_use','Time_study','Time_usage','Distraction_rate']].mean()\n"
     ]
    },
    {
     "data": {
      "text/html": [
       "<div>\n",
       "<style scoped>\n",
       "    .dataframe tbody tr th:only-of-type {\n",
       "        vertical-align: middle;\n",
       "    }\n",
       "\n",
       "    .dataframe tbody tr th {\n",
       "        vertical-align: top;\n",
       "    }\n",
       "\n",
       "    .dataframe thead th {\n",
       "        text-align: right;\n",
       "    }\n",
       "</style>\n",
       "<table border=\"1\" class=\"dataframe\">\n",
       "  <thead>\n",
       "    <tr style=\"text-align: right;\">\n",
       "      <th></th>\n",
       "      <th>Useful</th>\n",
       "      <th>Class_use</th>\n",
       "      <th>Time_study</th>\n",
       "      <th>Time_usage</th>\n",
       "      <th>Distraction_rate</th>\n",
       "      <th>Learn_rate</th>\n",
       "    </tr>\n",
       "    <tr>\n",
       "      <th>Gender</th>\n",
       "      <th></th>\n",
       "      <th></th>\n",
       "      <th></th>\n",
       "      <th></th>\n",
       "      <th></th>\n",
       "      <th></th>\n",
       "    </tr>\n",
       "  </thead>\n",
       "  <tbody>\n",
       "    <tr>\n",
       "      <th>Men</th>\n",
       "      <td>4.33</td>\n",
       "      <td>3.78</td>\n",
       "      <td>2.24</td>\n",
       "      <td>3.76</td>\n",
       "      <td>3.52</td>\n",
       "      <td>59.61</td>\n",
       "    </tr>\n",
       "    <tr>\n",
       "      <th>Other</th>\n",
       "      <td>4.00</td>\n",
       "      <td>5.00</td>\n",
       "      <td>5.00</td>\n",
       "      <td>5.00</td>\n",
       "      <td>5.00</td>\n",
       "      <td>100.00</td>\n",
       "    </tr>\n",
       "    <tr>\n",
       "      <th>Women</th>\n",
       "      <td>4.00</td>\n",
       "      <td>3.79</td>\n",
       "      <td>1.99</td>\n",
       "      <td>3.37</td>\n",
       "      <td>3.37</td>\n",
       "      <td>59.18</td>\n",
       "    </tr>\n",
       "  </tbody>\n",
       "</table>\n",
       "</div>"
      ],
      "text/plain": [
       "        Useful  Class_use  Time_study  Time_usage  Distraction_rate  \\\n",
       "Gender                                                                \n",
       "Men       4.33       3.78        2.24        3.76              3.52   \n",
       "Other     4.00       5.00        5.00        5.00              5.00   \n",
       "Women     4.00       3.79        1.99        3.37              3.37   \n",
       "\n",
       "        Learn_rate  \n",
       "Gender              \n",
       "Men          59.61  \n",
       "Other       100.00  \n",
       "Women        59.18  "
      ]
     },
     "execution_count": 9,
     "metadata": {},
     "output_type": "execute_result"
    }
   ],
   "source": [
    "#Different gender\n",
    "df3=df2.groupby(['Gender'])[['Brand','Useful','Class_use','Time_study','Time_usage','Distraction_rate']].mean()\n",
    "df3['Learn_rate']=(df3['Time_study']/df3['Time_usage'])*100\n",
    "df3.round(2)"
   ]
  },
  {
   "cell_type": "markdown",
   "metadata": {},
   "source": [
    "### Learning over laptop' mastery"
   ]
  },
  {
   "cell_type": "code",
   "execution_count": 10,
   "metadata": {},
   "outputs": [
    {
     "data": {
      "text/plain": [
       "Chưa từng    36\n",
       "Đã từng      30\n",
       "Name: Trick, dtype: int64"
      ]
     },
     "execution_count": 10,
     "metadata": {},
     "output_type": "execute_result"
    }
   ],
   "source": [
    "#Boost PC\n",
    "df2['Trick'].value_counts()"
   ]
  },
  {
   "cell_type": "code",
   "execution_count": 11,
   "metadata": {},
   "outputs": [
    {
     "data": {
      "text/html": [
       "<div>\n",
       "<style scoped>\n",
       "    .dataframe tbody tr th:only-of-type {\n",
       "        vertical-align: middle;\n",
       "    }\n",
       "\n",
       "    .dataframe tbody tr th {\n",
       "        vertical-align: top;\n",
       "    }\n",
       "\n",
       "    .dataframe thead th {\n",
       "        text-align: right;\n",
       "    }\n",
       "</style>\n",
       "<table border=\"1\" class=\"dataframe\">\n",
       "  <thead>\n",
       "    <tr style=\"text-align: right;\">\n",
       "      <th></th>\n",
       "      <th>Useful</th>\n",
       "      <th>Class_use</th>\n",
       "      <th>Time_study</th>\n",
       "      <th>Time_usage</th>\n",
       "      <th>Distraction_rate</th>\n",
       "      <th>Learn_rate</th>\n",
       "      <th>Count</th>\n",
       "    </tr>\n",
       "    <tr>\n",
       "      <th>Skill</th>\n",
       "      <th></th>\n",
       "      <th></th>\n",
       "      <th></th>\n",
       "      <th></th>\n",
       "      <th></th>\n",
       "      <th></th>\n",
       "      <th></th>\n",
       "    </tr>\n",
       "  </thead>\n",
       "  <tbody>\n",
       "    <tr>\n",
       "      <th>2</th>\n",
       "      <td>4.40</td>\n",
       "      <td>4.40</td>\n",
       "      <td>1.55</td>\n",
       "      <td>3.40</td>\n",
       "      <td>3.60</td>\n",
       "      <td>45.59</td>\n",
       "      <td>5</td>\n",
       "    </tr>\n",
       "    <tr>\n",
       "      <th>3</th>\n",
       "      <td>4.10</td>\n",
       "      <td>3.39</td>\n",
       "      <td>1.85</td>\n",
       "      <td>3.05</td>\n",
       "      <td>3.45</td>\n",
       "      <td>60.58</td>\n",
       "      <td>31</td>\n",
       "    </tr>\n",
       "    <tr>\n",
       "      <th>4</th>\n",
       "      <td>4.12</td>\n",
       "      <td>4.12</td>\n",
       "      <td>2.27</td>\n",
       "      <td>4.02</td>\n",
       "      <td>3.33</td>\n",
       "      <td>56.48</td>\n",
       "      <td>24</td>\n",
       "    </tr>\n",
       "    <tr>\n",
       "      <th>5</th>\n",
       "      <td>4.17</td>\n",
       "      <td>4.17</td>\n",
       "      <td>3.62</td>\n",
       "      <td>4.42</td>\n",
       "      <td>3.83</td>\n",
       "      <td>82.08</td>\n",
       "      <td>6</td>\n",
       "    </tr>\n",
       "  </tbody>\n",
       "</table>\n",
       "</div>"
      ],
      "text/plain": [
       "       Useful  Class_use  Time_study  Time_usage  Distraction_rate  \\\n",
       "Skill                                                                \n",
       "2        4.40       4.40        1.55        3.40              3.60   \n",
       "3        4.10       3.39        1.85        3.05              3.45   \n",
       "4        4.12       4.12        2.27        4.02              3.33   \n",
       "5        4.17       4.17        3.62        4.42              3.83   \n",
       "\n",
       "       Learn_rate  Count  \n",
       "Skill                     \n",
       "2           45.59      5  \n",
       "3           60.58     31  \n",
       "4           56.48     24  \n",
       "5           82.08      6  "
      ]
     },
     "execution_count": 11,
     "metadata": {},
     "output_type": "execute_result"
    }
   ],
   "source": [
    "#Skill\n",
    "df3=df2.groupby(['Skill'])[['Useful','Class_use','Time_study','Time_usage','Distraction_rate']].mean()\n",
    "df3['Learn_rate']=(df3['Time_study']/df3['Time_usage'])*100\n",
    "df3['Count']=df2['Skill'].value_counts()\n",
    "df3.round(2)"
   ]
  },
  {
   "cell_type": "code",
   "execution_count": 12,
   "metadata": {},
   "outputs": [],
   "source": [
    "### Learning over majors"
   ]
  },
  {
   "cell_type": "code",
   "execution_count": 13,
   "metadata": {},
   "outputs": [],
   "source": [
    "#Create Field base on Major\n",
    "div1 = {'Tech_related':['cntt','dseb','toán kinh tế','it','mis'],'Tech_not_related':['hàn quốc học','kinh doanh quốc tế','kinh tế đối ngoại','kiểm toán','logistics','luật','marketing','ngôn ngữ anh','phân tích tài chính','qtkd','tài chính']}\n",
    "div2= dict()\n",
    "for key,val in div1.items():\n",
    "    for i in range(len(val)):\n",
    "        div2[val[i]]=key\n",
    "df2['Field']=df2['Major'].map(div2)"
   ]
  },
  {
   "cell_type": "code",
   "execution_count": 14,
   "metadata": {},
   "outputs": [
    {
     "data": {
      "text/html": [
       "<div>\n",
       "<style scoped>\n",
       "    .dataframe tbody tr th:only-of-type {\n",
       "        vertical-align: middle;\n",
       "    }\n",
       "\n",
       "    .dataframe tbody tr th {\n",
       "        vertical-align: top;\n",
       "    }\n",
       "\n",
       "    .dataframe thead th {\n",
       "        text-align: right;\n",
       "    }\n",
       "</style>\n",
       "<table border=\"1\" class=\"dataframe\">\n",
       "  <thead>\n",
       "    <tr style=\"text-align: right;\">\n",
       "      <th></th>\n",
       "      <th>Useful</th>\n",
       "      <th>Class_use</th>\n",
       "      <th>Time_study</th>\n",
       "      <th>Time_usage</th>\n",
       "      <th>Distraction_rate</th>\n",
       "      <th>Learn_rate</th>\n",
       "    </tr>\n",
       "    <tr>\n",
       "      <th>Field</th>\n",
       "      <th></th>\n",
       "      <th></th>\n",
       "      <th></th>\n",
       "      <th></th>\n",
       "      <th></th>\n",
       "      <th></th>\n",
       "    </tr>\n",
       "  </thead>\n",
       "  <tbody>\n",
       "    <tr>\n",
       "      <th>Tech_not_related</th>\n",
       "      <td>4.0</td>\n",
       "      <td>3.82</td>\n",
       "      <td>2.11</td>\n",
       "      <td>3.32</td>\n",
       "      <td>3.41</td>\n",
       "      <td>63.70</td>\n",
       "    </tr>\n",
       "    <tr>\n",
       "      <th>Tech_related</th>\n",
       "      <td>4.2</td>\n",
       "      <td>3.75</td>\n",
       "      <td>1.96</td>\n",
       "      <td>3.59</td>\n",
       "      <td>3.42</td>\n",
       "      <td>54.53</td>\n",
       "    </tr>\n",
       "  </tbody>\n",
       "</table>\n",
       "</div>"
      ],
      "text/plain": [
       "                  Useful  Class_use  Time_study  Time_usage  Distraction_rate  \\\n",
       "Field                                                                           \n",
       "Tech_not_related     4.0       3.82        2.11        3.32              3.41   \n",
       "Tech_related         4.2       3.75        1.96        3.59              3.42   \n",
       "\n",
       "                  Learn_rate  \n",
       "Field                         \n",
       "Tech_not_related       63.70  \n",
       "Tech_related           54.53  "
      ]
     },
     "execution_count": 14,
     "metadata": {},
     "output_type": "execute_result"
    }
   ],
   "source": [
    "#Efficientcy depends on majors\n",
    "df3=df2.groupby(['Field'])[['Useful','Class_use','Time_study','Time_usage','Distraction_rate']].mean()\n",
    "df3['Learn_rate']=(df3['Time_study']/df3['Time_usage'])*100\n",
    "df3.round(2)"
   ]
  },
  {
   "cell_type": "code",
   "execution_count": null,
   "metadata": {},
   "outputs": [],
   "source": []
  },
  {
   "cell_type": "markdown",
   "metadata": {},
   "source": [
    "# Laptop in general"
   ]
  },
  {
   "cell_type": "markdown",
   "metadata": {},
   "source": [
    "### Laptop quality over pricetags"
   ]
  },
  {
   "cell_type": "code",
   "execution_count": 15,
   "metadata": {},
   "outputs": [
    {
     "name": "stderr",
     "output_type": "stream",
     "text": [
      "C:\\Users\\Admin\\AppData\\Local\\Temp\\ipykernel_26808\\1441226345.py:2: FutureWarning: The default value of numeric_only in DataFrameGroupBy.mean is deprecated. In a future version, numeric_only will default to False. Either specify numeric_only or select only columns which should be valid for the function.\n",
      "  df3=df2.groupby('Budget')[['Brand','Overall_satisfaction','Build_quality','Design','Battery_life']].mean()\n"
     ]
    },
    {
     "data": {
      "text/html": [
       "<div>\n",
       "<style scoped>\n",
       "    .dataframe tbody tr th:only-of-type {\n",
       "        vertical-align: middle;\n",
       "    }\n",
       "\n",
       "    .dataframe tbody tr th {\n",
       "        vertical-align: top;\n",
       "    }\n",
       "\n",
       "    .dataframe thead th {\n",
       "        text-align: right;\n",
       "    }\n",
       "</style>\n",
       "<table border=\"1\" class=\"dataframe\">\n",
       "  <thead>\n",
       "    <tr style=\"text-align: right;\">\n",
       "      <th></th>\n",
       "      <th>Overall_satisfaction</th>\n",
       "      <th>Build_quality</th>\n",
       "      <th>Design</th>\n",
       "      <th>Battery_life</th>\n",
       "      <th>Count</th>\n",
       "    </tr>\n",
       "    <tr>\n",
       "      <th>Budget</th>\n",
       "      <th></th>\n",
       "      <th></th>\n",
       "      <th></th>\n",
       "      <th></th>\n",
       "      <th></th>\n",
       "    </tr>\n",
       "  </thead>\n",
       "  <tbody>\n",
       "    <tr>\n",
       "      <th>7.5</th>\n",
       "      <td>3.00</td>\n",
       "      <td>3.00</td>\n",
       "      <td>3.33</td>\n",
       "      <td>2.67</td>\n",
       "      <td>3</td>\n",
       "    </tr>\n",
       "    <tr>\n",
       "      <th>12.5</th>\n",
       "      <td>2.94</td>\n",
       "      <td>3.50</td>\n",
       "      <td>3.56</td>\n",
       "      <td>3.06</td>\n",
       "      <td>16</td>\n",
       "    </tr>\n",
       "    <tr>\n",
       "      <th>17.5</th>\n",
       "      <td>3.71</td>\n",
       "      <td>3.81</td>\n",
       "      <td>3.90</td>\n",
       "      <td>3.10</td>\n",
       "      <td>21</td>\n",
       "    </tr>\n",
       "    <tr>\n",
       "      <th>22.5</th>\n",
       "      <td>4.25</td>\n",
       "      <td>4.42</td>\n",
       "      <td>4.58</td>\n",
       "      <td>3.42</td>\n",
       "      <td>12</td>\n",
       "    </tr>\n",
       "    <tr>\n",
       "      <th>30.0</th>\n",
       "      <td>4.36</td>\n",
       "      <td>4.14</td>\n",
       "      <td>4.57</td>\n",
       "      <td>3.79</td>\n",
       "      <td>14</td>\n",
       "    </tr>\n",
       "  </tbody>\n",
       "</table>\n",
       "</div>"
      ],
      "text/plain": [
       "        Overall_satisfaction  Build_quality  Design  Battery_life  Count\n",
       "Budget                                                                  \n",
       "7.5                     3.00           3.00    3.33          2.67      3\n",
       "12.5                    2.94           3.50    3.56          3.06     16\n",
       "17.5                    3.71           3.81    3.90          3.10     21\n",
       "22.5                    4.25           4.42    4.58          3.42     12\n",
       "30.0                    4.36           4.14    4.57          3.79     14"
      ]
     },
     "execution_count": 15,
     "metadata": {},
     "output_type": "execute_result"
    }
   ],
   "source": [
    "#Quality over prices\n",
    "df3=df2.groupby('Budget')[['Brand','Overall_satisfaction','Build_quality','Design','Battery_life']].mean()\n",
    "df3['Count']=df2['Budget'].value_counts()\n",
    "df3.round(2)"
   ]
  },
  {
   "cell_type": "markdown",
   "metadata": {},
   "source": [
    "### Laptop in different brands"
   ]
  },
  {
   "cell_type": "code",
   "execution_count": 16,
   "metadata": {},
   "outputs": [
    {
     "data": {
      "text/plain": [
       "Dell                 19\n",
       "Asus                 11\n",
       "Macbook              10\n",
       "HP                    8\n",
       "Lenovo                6\n",
       "MSI                   4\n",
       "Acer                  4\n",
       "Alienware             2\n",
       "Microsoft Surface     1\n",
       "Tongfang              1\n",
       "Name: Brand, dtype: int64"
      ]
     },
     "execution_count": 16,
     "metadata": {},
     "output_type": "execute_result"
    }
   ],
   "source": [
    "df2['Brand'].value_counts()"
   ]
  },
  {
   "cell_type": "code",
   "execution_count": 17,
   "metadata": {},
   "outputs": [],
   "source": [
    "budget=df3.index.values.tolist()"
   ]
  },
  {
   "cell_type": "code",
   "execution_count": 18,
   "metadata": {},
   "outputs": [
    {
     "name": "stderr",
     "output_type": "stream",
     "text": [
      "C:\\Users\\Admin\\AppData\\Local\\Temp\\ipykernel_26808\\2538056421.py:2: FutureWarning: The default value of numeric_only in DataFrameGroupBy.mean is deprecated. In a future version, numeric_only will default to False. Either specify numeric_only or select only columns which should be valid for the function.\n",
      "  df3=df2.groupby(['Brand'])[['Brand','Overall_satisfaction','Build_quality','Design','Battery_life','Budget']].mean()\n"
     ]
    },
    {
     "data": {
      "text/html": [
       "<div>\n",
       "<style scoped>\n",
       "    .dataframe tbody tr th:only-of-type {\n",
       "        vertical-align: middle;\n",
       "    }\n",
       "\n",
       "    .dataframe tbody tr th {\n",
       "        vertical-align: top;\n",
       "    }\n",
       "\n",
       "    .dataframe thead th {\n",
       "        text-align: right;\n",
       "    }\n",
       "</style>\n",
       "<table border=\"1\" class=\"dataframe\">\n",
       "  <thead>\n",
       "    <tr style=\"text-align: right;\">\n",
       "      <th></th>\n",
       "      <th>Overall_satisfaction</th>\n",
       "      <th>Build_quality</th>\n",
       "      <th>Design</th>\n",
       "      <th>Battery_life</th>\n",
       "      <th>Budget</th>\n",
       "      <th>Count</th>\n",
       "    </tr>\n",
       "    <tr>\n",
       "      <th>Brand</th>\n",
       "      <th></th>\n",
       "      <th></th>\n",
       "      <th></th>\n",
       "      <th></th>\n",
       "      <th></th>\n",
       "      <th></th>\n",
       "    </tr>\n",
       "  </thead>\n",
       "  <tbody>\n",
       "    <tr>\n",
       "      <th>Macbook</th>\n",
       "      <td>4.30</td>\n",
       "      <td>4.60</td>\n",
       "      <td>4.90</td>\n",
       "      <td>4.40</td>\n",
       "      <td>26.25</td>\n",
       "      <td>10</td>\n",
       "    </tr>\n",
       "    <tr>\n",
       "      <th>Lenovo</th>\n",
       "      <td>3.83</td>\n",
       "      <td>4.00</td>\n",
       "      <td>4.17</td>\n",
       "      <td>3.17</td>\n",
       "      <td>24.17</td>\n",
       "      <td>6</td>\n",
       "    </tr>\n",
       "    <tr>\n",
       "      <th>Acer</th>\n",
       "      <td>3.75</td>\n",
       "      <td>4.00</td>\n",
       "      <td>4.50</td>\n",
       "      <td>3.50</td>\n",
       "      <td>20.62</td>\n",
       "      <td>4</td>\n",
       "    </tr>\n",
       "    <tr>\n",
       "      <th>Asus</th>\n",
       "      <td>3.73</td>\n",
       "      <td>3.73</td>\n",
       "      <td>4.00</td>\n",
       "      <td>2.91</td>\n",
       "      <td>17.05</td>\n",
       "      <td>11</td>\n",
       "    </tr>\n",
       "    <tr>\n",
       "      <th>Dell</th>\n",
       "      <td>3.68</td>\n",
       "      <td>3.74</td>\n",
       "      <td>3.89</td>\n",
       "      <td>2.95</td>\n",
       "      <td>17.37</td>\n",
       "      <td>19</td>\n",
       "    </tr>\n",
       "    <tr>\n",
       "      <th>MSI</th>\n",
       "      <td>3.25</td>\n",
       "      <td>3.50</td>\n",
       "      <td>3.25</td>\n",
       "      <td>2.75</td>\n",
       "      <td>16.25</td>\n",
       "      <td>4</td>\n",
       "    </tr>\n",
       "    <tr>\n",
       "      <th>HP</th>\n",
       "      <td>3.00</td>\n",
       "      <td>3.75</td>\n",
       "      <td>3.50</td>\n",
       "      <td>3.62</td>\n",
       "      <td>13.75</td>\n",
       "      <td>8</td>\n",
       "    </tr>\n",
       "  </tbody>\n",
       "</table>\n",
       "</div>"
      ],
      "text/plain": [
       "         Overall_satisfaction  Build_quality  Design  Battery_life  Budget  \\\n",
       "Brand                                                                        \n",
       "Macbook                  4.30           4.60    4.90          4.40   26.25   \n",
       "Lenovo                   3.83           4.00    4.17          3.17   24.17   \n",
       "Acer                     3.75           4.00    4.50          3.50   20.62   \n",
       "Asus                     3.73           3.73    4.00          2.91   17.05   \n",
       "Dell                     3.68           3.74    3.89          2.95   17.37   \n",
       "MSI                      3.25           3.50    3.25          2.75   16.25   \n",
       "HP                       3.00           3.75    3.50          3.62   13.75   \n",
       "\n",
       "         Count  \n",
       "Brand           \n",
       "Macbook     10  \n",
       "Lenovo       6  \n",
       "Acer         4  \n",
       "Asus        11  \n",
       "Dell        19  \n",
       "MSI          4  \n",
       "HP           8  "
      ]
     },
     "execution_count": 18,
     "metadata": {},
     "output_type": "execute_result"
    }
   ],
   "source": [
    "#Quality over brands\n",
    "df3=df2.groupby(['Brand'])[['Brand','Overall_satisfaction','Build_quality','Design','Battery_life','Budget']].mean()\n",
    "df3['Count']=df2['Brand'].value_counts()\n",
    "df3.loc[df3['Count']>2].sort_values(by=['Overall_satisfaction'],ascending=False).round(2)"
   ]
  },
  {
   "cell_type": "code",
   "execution_count": 19,
   "metadata": {},
   "outputs": [
    {
     "data": {
      "image/png": "[encoded data removed]",
      "text/plain": [
       "<Figure size 640x480 with 1 Axes>"
      ]
     },
     "metadata": {},
     "output_type": "display_data"
    }
   ],
   "source": [
    "#Pricetags of top 5 laptop' manufacture\n",
    "price_index=dict()\n",
    "brand=df3.loc[df3['Count']>5].index.values.tolist()\n",
    "for price in budget:\n",
    "    price_index[price]=[]\n",
    "    for lap in brand:\n",
    "        try:\n",
    "            x=int(df2.loc[df2['Budget']==price]['Brand'].value_counts()[lap])\n",
    "        except:\n",
    "            x=0            \n",
    "        price_index[price].append(x)\n",
    "      \n",
    "\n",
    "x=np.arange(len(brand))\n",
    "\n",
    "plt.bar(x - 0.34,price_index[7.5] , 0.17, label = '< 10 million')\n",
    "plt.bar(x - 0.17,price_index[12.5] , 0.17, label = '10-15 million')\n",
    "plt.bar(x ,price_index[17.5] , 0.2, label = '15-20 million')\n",
    "plt.bar(x + 0.17,price_index[22.5] , 0.17, label = '20-25 million')\n",
    "plt.bar(x + 0.34, price_index[30], 0.17, label = '>25 million')\n",
    "plt.xticks(x,brand)\n",
    "\n",
    "plt.xlabel(\"Laptop brands\")\n",
    "plt.ylabel(\"Units\")\n",
    "plt.title(\"Laptop in different prices by Brands\")\n",
    "plt.legend()\n",
    "plt.show()\n"
   ]
  },
  {
   "cell_type": "markdown",
   "metadata": {},
   "source": [
    "### Laptop in genders"
   ]
  },
  {
   "cell_type": "code",
   "execution_count": 20,
   "metadata": {},
   "outputs": [],
   "source": [
    "def count_lap(brand,gen):\n",
    "\ttry:\n",
    "\t\tx=df2.loc[df2['Gender']==gen]['Brand'].value_counts()[brand]\n",
    "\texcept:\n",
    "\t\tx=0\n",
    "\treturn x\n",
    "df_g=pd.DataFrame({'Men':[count_lap(brand[x],'Men') for x in range(len(brand))],\n",
    "                  'Women':[count_lap(brand[x],'Women') for x in range(len(brand))]},\n",
    "                 index=brand)\n"
   ]
  },
  {
   "cell_type": "code",
   "execution_count": 21,
   "metadata": {},
   "outputs": [
    {
     "data": {
      "text/plain": [
       "Dell       13\n",
       "Asus       10\n",
       "Macbook     6\n",
       "HP          3\n",
       "Lenovo      2\n",
       "Name: Women, dtype: int64"
      ]
     },
     "execution_count": 21,
     "metadata": {},
     "output_type": "execute_result"
    }
   ],
   "source": [
    "#Top brand loved by women\n",
    "df_g['Women'].sort_values(ascending=False)"
   ]
  },
  {
   "cell_type": "code",
   "execution_count": 22,
   "metadata": {},
   "outputs": [
    {
     "data": {
      "text/plain": [
       "Dell       6\n",
       "HP         5\n",
       "Lenovo     4\n",
       "Macbook    4\n",
       "Asus       1\n",
       "Name: Men, dtype: int64"
      ]
     },
     "execution_count": 22,
     "metadata": {},
     "output_type": "execute_result"
    }
   ],
   "source": [
    "#Top brand loved by men\n",
    "df_g['Men'].sort_values(ascending=False)"
   ]
  },
  {
   "cell_type": "code",
   "execution_count": 23,
   "metadata": {},
   "outputs": [
    {
     "name": "stderr",
     "output_type": "stream",
     "text": [
      "C:\\Users\\Admin\\AppData\\Local\\Temp\\ipykernel_26808\\3813089186.py:4: FutureWarning: The default value of numeric_only in DataFrameGroupBy.sum is deprecated. In a future version, numeric_only will default to False. Either specify numeric_only or select only columns which should be valid for the function.\n",
      "  df3['Count']=df2.groupby(['Field','Rechoose']).sum()['Count']\n"
     ]
    },
    {
     "data": {
      "text/html": [
       "<div>\n",
       "<style scoped>\n",
       "    .dataframe tbody tr th:only-of-type {\n",
       "        vertical-align: middle;\n",
       "    }\n",
       "\n",
       "    .dataframe tbody tr th {\n",
       "        vertical-align: top;\n",
       "    }\n",
       "\n",
       "    .dataframe thead tr th {\n",
       "        text-align: left;\n",
       "    }\n",
       "</style>\n",
       "<table border=\"1\" class=\"dataframe\">\n",
       "  <thead>\n",
       "    <tr>\n",
       "      <th>Field</th>\n",
       "      <th colspan=\"8\" halign=\"left\">Tech_not_related</th>\n",
       "      <th colspan=\"10\" halign=\"left\">Tech_related</th>\n",
       "    </tr>\n",
       "    <tr>\n",
       "      <th>Rechoose</th>\n",
       "      <th>Acer Nitro 5</th>\n",
       "      <th>Asus</th>\n",
       "      <th>Lenovo Legion 5</th>\n",
       "      <th>MacBook Pro</th>\n",
       "      <th>Macbook</th>\n",
       "      <th>Rog Strix</th>\n",
       "      <th>lenovo thinkbook</th>\n",
       "      <th>slim 7 pro</th>\n",
       "      <th>Acer Nitro 5</th>\n",
       "      <th>Asus</th>\n",
       "      <th>Dell</th>\n",
       "      <th>Dell XPS</th>\n",
       "      <th>Lenovo</th>\n",
       "      <th>Macbook</th>\n",
       "      <th>Macbook M2</th>\n",
       "      <th>Macbook Pro</th>\n",
       "      <th>Mình chưa cân nhắc</th>\n",
       "      <th>Thinkpad p52</th>\n",
       "    </tr>\n",
       "  </thead>\n",
       "  <tbody>\n",
       "    <tr>\n",
       "      <th>Count</th>\n",
       "      <td>1.0</td>\n",
       "      <td>1.0</td>\n",
       "      <td>1.0</td>\n",
       "      <td>1.0</td>\n",
       "      <td>3.0</td>\n",
       "      <td>1.0</td>\n",
       "      <td>1.0</td>\n",
       "      <td>1.0</td>\n",
       "      <td>1.0</td>\n",
       "      <td>1.0</td>\n",
       "      <td>1.0</td>\n",
       "      <td>1.0</td>\n",
       "      <td>2.0</td>\n",
       "      <td>7.0</td>\n",
       "      <td>1.0</td>\n",
       "      <td>3.0</td>\n",
       "      <td>1.0</td>\n",
       "      <td>1.0</td>\n",
       "    </tr>\n",
       "  </tbody>\n",
       "</table>\n",
       "</div>"
      ],
      "text/plain": [
       "Field    Tech_not_related                                                      \\\n",
       "Rechoose     Acer Nitro 5 Asus  Lenovo Legion 5 MacBook Pro Macbook Rog Strix   \n",
       "Count                 1.0   1.0             1.0         1.0     3.0       1.0   \n",
       "\n",
       "Field                                Tech_related                            \\\n",
       "Rechoose lenovo thinkbook slim 7 pro Acer Nitro 5 Asus Dell Dell XPS Lenovo   \n",
       "Count                 1.0        1.0          1.0  1.0  1.0      1.0    2.0   \n",
       "\n",
       "Field                                                                    \n",
       "Rechoose Macbook Macbook M2 Macbook Pro Mình chưa cân nhắc Thinkpad p52  \n",
       "Count        7.0        1.0         3.0                1.0          1.0  "
      ]
     },
     "execution_count": 23,
     "metadata": {},
     "output_type": "execute_result"
    }
   ],
   "source": [
    "#Efficientcy depends on majors\n",
    "df2['Count']=1\n",
    "df3=df2.groupby(['Field','Rechoose'])[['Overall_satisfaction']].mean()\n",
    "df3['Count']=df2.groupby(['Field','Rechoose']).sum()['Count']\n",
    "df3.T.round(2).loc[['Count']]"
   ]
  },
  {
   "cell_type": "code",
   "execution_count": null,
   "metadata": {},
   "outputs": [],
   "source": []
  }
 ],
 "metadata": {
  "kernelspec": {
   "display_name": "Python 3 (ipykernel)",
   "language": "python",
   "name": "python3"
  },
  "language_info": {
   "codemirror_mode": {
    "name": "ipython",
    "version": 3
   },
   "file_extension": ".py",
   "mimetype": "text/x-python",
   "name": "python",
   "nbconvert_exporter": "python",
   "pygments_lexer": "ipython3",
   "version": "3.10.5"
  },
  "vscode": {
   "interpreter": {
    "hash": "a42ccb73e7d9bfdf27e036f1d2b8b681e55fc0743cc5586bc2474d4a60f4b886"
   }
  }
 },
 "nbformat": 4,
 "nbformat_minor": 2
}
